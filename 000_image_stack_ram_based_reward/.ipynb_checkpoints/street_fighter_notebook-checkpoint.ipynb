{
 "cells": [
  {
   "cell_type": "code",
   "execution_count": 1,
   "id": "10d267bb",
   "metadata": {},
   "outputs": [],
   "source": [
    "import retro"
   ]
  },
  {
   "cell_type": "code",
   "execution_count": 2,
   "id": "1ef8ff20",
   "metadata": {},
   "outputs": [],
   "source": [
    "game = \"StreetFighterIISpecialChampionEdition-Genesis\"\n",
    "state = \"Champion.Level1.ChunLiVsGuile\"\n",
    "env = retro.make(game=game, state=state)"
   ]
  },
  {
   "cell_type": "code",
   "execution_count": 6,
   "id": "5ce656b8",
   "metadata": {},
   "outputs": [
    {
     "data": {
      "text/plain": [
       "array([1, 0, 0, 0, 1, 1, 1, 1, 1, 1, 0, 1], dtype=int8)"
      ]
     },
     "execution_count": 6,
     "metadata": {},
     "output_type": "execute_result"
    }
   ],
   "source": [
    "env.action_space.sample()"
   ]
  },
  {
   "cell_type": "code",
   "execution_count": 9,
   "id": "8c3f0a4d",
   "metadata": {
    "scrolled": true
   },
   "outputs": [
    {
     "data": {
      "text/plain": [
       "(200, 256, 3)"
      ]
     },
     "execution_count": 9,
     "metadata": {},
     "output_type": "execute_result"
    }
   ],
   "source": [
    "env.observation_space.sample().shape"
   ]
  },
  {
   "cell_type": "code",
   "execution_count": 16,
   "id": "46db7b05",
   "metadata": {},
   "outputs": [
    {
     "name": "stdout",
     "output_type": "stream",
     "text": [
      "(200, 256, 3)\n",
      "{'enemy_matches_won': 0, 'score': 0, 'matches_won': 0, 'continuetimer': 0, 'enemy_health': 176, 'health': 176}\n"
     ]
    }
   ],
   "source": [
    "observation = env.reset()\n",
    "print(observation.shape)\n",
    "\n",
    "action = env.action_space.sample()\n",
    "obs, rewards, done, info = env.step(action)\n",
    "print(info)"
   ]
  },
  {
   "cell_type": "code",
   "execution_count": 19,
   "id": "09f0c6b0",
   "metadata": {},
   "outputs": [
    {
     "name": "stdout",
     "output_type": "stream",
     "text": [
      "MultiBinary(12)\n"
     ]
    }
   ],
   "source": [
    "from gym.spaces import Box, MultiBinary\n",
    "\n",
    "print(MultiBinary(12))"
   ]
  },
  {
   "cell_type": "code",
   "execution_count": 25,
   "id": "97df18cf",
   "metadata": {},
   "outputs": [],
   "source": [
    "import gym\n",
    "import numpy as np\n",
    "from gym.spaces import Box, MultiBinary\n",
    "\n",
    "class StreetFighter(gym.Env):\n",
    "    def __init__(self):\n",
    "        super().__init__()\n",
    "        self.observation_space = Box(low=0, high=255, shape=(84, 84), dtype=np.uint8)\n",
    "        self.action_space = MultiBinary(12)\n",
    "        self.game = retro.make(game=\"StreetFighterIISpecialChampionEdition-Genesis\", use_restricted_actions=retro.Actions.FILTERED)\n",
    "        \n",
    "        self.full_hp = 176\n",
    "        self.player_health = self.full_hp\n",
    "        self.oppont_health = self.full_hp\n",
    "        \n",
    "        self.score = 0\n",
    "        \n",
    "    def __preprocess(self, observation):\n",
    "        gray = cv2.cvtColor(observation, cv2.COLOR_BGR2GRAY)\n",
    "        resize = cv2.resize(gray, (84,84), interpolation=cv2.INTER_CUBIC)\n",
    "        return resize\n",
    "\n",
    "    def step(self, action):\n",
    "\n",
    "        obs, reward, done, info = self.game.step(action)\n",
    "        custom_obs = self.__preprocess(obs) # It's just frame, not frame_delta\n",
    "\n",
    "        # During fighting, either player or opponent has positive health points.\n",
    "        if info['health'] > 0 or info['enemy_health'] > 0:\n",
    "\n",
    "            # Player Loses\n",
    "            if info['health'] < 0 and info['health'] != self.player_health and info['enemy_health'] != 0:\n",
    "                reward = (-self.full_hp) * info['enemy_health']\n",
    "\n",
    "            # Player Wins\n",
    "            elif info['enemy_health'] < 0 and info['enemy_health'] != self.oppont_health and info['health'] != 0:\n",
    "                reward = self.full_hp * info['health']\n",
    "\n",
    "            # During Fighting\n",
    "            else:\n",
    "                reward = (self.oppont_health - info['enemy_health']) - (self.player_health - info['health'])\n",
    "        \n",
    "        self.player_health = info['health']\n",
    "        self.oppont_health = info['enemy_health']\n",
    "        \n",
    "        return custom_obs, reward, done, info\n",
    "    \n",
    "    def render(self, *args, **kwargs):\n",
    "        self.game.render()\n",
    "        \n",
    "    def reset(self):\n",
    "        obs = self.game.reset()\n",
    "        custom_obs = self.__preprocess(obs)\n",
    "        self.previous_frame = obs\n",
    "    \n",
    "        self.player_health = self.full_hp\n",
    "        self.oppont_health = self.full_hp\n",
    "        return custom_obs\n",
    "\n",
    "    def close(self):\n",
    "        self.game.close()\n"
   ]
  },
  {
   "cell_type": "code",
   "execution_count": 31,
   "id": "0b137b88",
   "metadata": {},
   "outputs": [
    {
     "name": "stdout",
     "output_type": "stream",
     "text": [
      "(84, 84, 1)\n"
     ]
    }
   ],
   "source": [
    "env.close()\n",
    "env = StreetFighter()\n",
    "print(env.observation_space.shape)\n",
    "env.close()"
   ]
  },
  {
   "cell_type": "code",
   "execution_count": null,
   "id": "2da50dbc",
   "metadata": {},
   "outputs": [],
   "source": []
  }
 ],
 "metadata": {
  "kernelspec": {
   "display_name": "Python 3 (ipykernel)",
   "language": "python",
   "name": "python3"
  },
  "language_info": {
   "codemirror_mode": {
    "name": "ipython",
    "version": 3
   },
   "file_extension": ".py",
   "mimetype": "text/x-python",
   "name": "python",
   "nbconvert_exporter": "python",
   "pygments_lexer": "ipython3",
   "version": "3.8.10"
  }
 },
 "nbformat": 4,
 "nbformat_minor": 5
}
